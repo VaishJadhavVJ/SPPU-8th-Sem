{
 "cells": [
  {
   "cell_type": "markdown",
   "id": "a12c7778-74dd-45b2-a74d-b083df6046d1",
   "metadata": {},
   "source": [
    "# Theory:\n",
    "## Title: \n",
    "Binary classification using Deep Neural Networks Example: Classify movie reviews into positive\" reviews and \"negative\" reviews, just based on the text content of the reviews. Use IMDB dataset.\n",
    "\n",
    "## Binary Classification\n",
    "\n",
    "Binary classification is a supervised machine learning task where the goal is to categorize data points into exactly two classes. In sentiment analysis, we aim to classify text data (movie reviews in this case) into categories reflecting the author's sentiment: positive or negative\n",
    "## IMDB Movie Review Dataset\n",
    "\n",
    "The Large Movie Review Dataset (IMDB) is a widely used benchmark for sentiment analysis tasks. It contains a collection of movie reviews labeled as positive or negative. Each review is a piece of text data, and the corresponding label indicates the sentiment of the review. This labeled dataset allows us to train a model to learn the relationship between the text features (words) and the sentiment labels (positive or negativerecall, F1-score).."
   ]
  },
  {
   "cell_type": "markdown",
   "id": "c4774557-ea55-4a88-898c-a95927164f61",
   "metadata": {},
   "source": [
    "# Import Packages"
   ]
  },
  {
   "cell_type": "code",
   "execution_count": 32,
   "id": "06951f08-6cb8-4c52-9b36-7a05fec5ee89",
   "metadata": {},
   "outputs": [],
   "source": [
    "import numpy as np\n",
    "from keras.datasets import imdb\n",
    "from keras import models\n",
    "from keras import layers\n",
    "from keras import optimizers\n",
    "from keras import losses\n",
    "from keras import metrics\n",
    "\n",
    "\n",
    "import matplotlib.pyplot as plt\n",
    "%matplotlib inline"
   ]
  },
  {
   "cell_type": "markdown",
   "id": "c49e4814-22a1-4a3b-8de5-f056306cb876",
   "metadata": {},
   "source": [
    "# Loading the Data"
   ]
  },
  {
   "cell_type": "code",
   "execution_count": 3,
   "id": "669a067b-8548-424e-a338-0400f9fbe88b",
   "metadata": {},
   "outputs": [],
   "source": [
    "# Load the data, keeping only 10,000 of the most frequently occuring words\n",
    "(train_data, train_labels), (test_data, test_labels) = imdb.load_data(num_words = 10000)"
   ]
  },
  {
   "cell_type": "code",
   "execution_count": 4,
   "id": "c01c11c3-3e92-48d6-8902-698cc7894a48",
   "metadata": {},
   "outputs": [
    {
     "data": {
      "text/plain": [
       "array([list([1, 14, 22, 16, 43, 530, 973, 1622, 1385, 65, 458, 4468, 66, 3941, 4, 173, 36, 256, 5, 25, 100, 43, 838, 112, 50, 670, 2, 9, 35, 480, 284, 5, 150, 4, 172, 112, 167, 2, 336, 385, 39, 4, 172, 4536, 1111, 17, 546, 38, 13, 447, 4, 192, 50, 16, 6, 147, 2025, 19, 14, 22, 4, 1920, 4613, 469, 4, 22, 71, 87, 12, 16, 43, 530, 38, 76, 15, 13, 1247, 4, 22, 17, 515, 17, 12, 16, 626, 18, 2, 5, 62, 386, 12, 8, 316, 8, 106, 5, 4, 2223, 5244, 16, 480, 66, 3785, 33, 4, 130, 12, 16, 38, 619, 5, 25, 124, 51, 36, 135, 48, 25, 1415, 33, 6, 22, 12, 215, 28, 77, 52, 5, 14, 407, 16, 82, 2, 8, 4, 107, 117, 5952, 15, 256, 4, 2, 7, 3766, 5, 723, 36, 71, 43, 530, 476, 26, 400, 317, 46, 7, 4, 2, 1029, 13, 104, 88, 4, 381, 15, 297, 98, 32, 2071, 56, 26, 141, 6, 194, 7486, 18, 4, 226, 22, 21, 134, 476, 26, 480, 5, 144, 30, 5535, 18, 51, 36, 28, 224, 92, 25, 104, 4, 226, 65, 16, 38, 1334, 88, 12, 16, 283, 5, 16, 4472, 113, 103, 32, 15, 16, 5345, 19, 178, 32]),\n",
       "       list([1, 194, 1153, 194, 8255, 78, 228, 5, 6, 1463, 4369, 5012, 134, 26, 4, 715, 8, 118, 1634, 14, 394, 20, 13, 119, 954, 189, 102, 5, 207, 110, 3103, 21, 14, 69, 188, 8, 30, 23, 7, 4, 249, 126, 93, 4, 114, 9, 2300, 1523, 5, 647, 4, 116, 9, 35, 8163, 4, 229, 9, 340, 1322, 4, 118, 9, 4, 130, 4901, 19, 4, 1002, 5, 89, 29, 952, 46, 37, 4, 455, 9, 45, 43, 38, 1543, 1905, 398, 4, 1649, 26, 6853, 5, 163, 11, 3215, 2, 4, 1153, 9, 194, 775, 7, 8255, 2, 349, 2637, 148, 605, 2, 8003, 15, 123, 125, 68, 2, 6853, 15, 349, 165, 4362, 98, 5, 4, 228, 9, 43, 2, 1157, 15, 299, 120, 5, 120, 174, 11, 220, 175, 136, 50, 9, 4373, 228, 8255, 5, 2, 656, 245, 2350, 5, 4, 9837, 131, 152, 491, 18, 2, 32, 7464, 1212, 14, 9, 6, 371, 78, 22, 625, 64, 1382, 9, 8, 168, 145, 23, 4, 1690, 15, 16, 4, 1355, 5, 28, 6, 52, 154, 462, 33, 89, 78, 285, 16, 145, 95])],\n",
       "      dtype=object)"
      ]
     },
     "execution_count": 4,
     "metadata": {},
     "output_type": "execute_result"
    }
   ],
   "source": [
    "train_data[:2]"
   ]
  },
  {
   "cell_type": "code",
   "execution_count": 5,
   "id": "64cd70ac-cdc0-44b1-995c-a64b358b1479",
   "metadata": {},
   "outputs": [
    {
     "data": {
      "text/plain": [
       "array([1, 0, 0, ..., 0, 1, 0], dtype=int64)"
      ]
     },
     "execution_count": 5,
     "metadata": {},
     "output_type": "execute_result"
    }
   ],
   "source": [
    "train_labels"
   ]
  },
  {
   "cell_type": "code",
   "execution_count": 6,
   "id": "0e136251-3865-4998-afff-4a8b8d991343",
   "metadata": {},
   "outputs": [
    {
     "data": {
      "text/plain": [
       "1"
      ]
     },
     "execution_count": 6,
     "metadata": {},
     "output_type": "execute_result"
    }
   ],
   "source": [
    "# Check the first label\n",
    "train_labels[0]"
   ]
  },
  {
   "cell_type": "code",
   "execution_count": 7,
   "id": "a9cb5460-9e7d-4bfb-a0cb-7ddaedbec670",
   "metadata": {},
   "outputs": [
    {
     "name": "stdout",
     "output_type": "stream",
     "text": [
      "<class 'list'>\n"
     ]
    },
    {
     "data": {
      "text/plain": [
       "9999"
      ]
     },
     "execution_count": 7,
     "metadata": {},
     "output_type": "execute_result"
    }
   ],
   "source": [
    "# Since we restricted ourselves to the top 10000 frequent words, no word index should exceed 10000\n",
    "# we'll verify this below\n",
    "\n",
    "# Here is a list of maximum indexes in every review --- we search the maximum index in this list of max indexes\n",
    "print(type([max(sequence) for sequence in train_data]))\n",
    "\n",
    "# Find the maximum of all max indexes\n",
    "max([max(sequence) for sequence in train_data])"
   ]
  },
  {
   "cell_type": "code",
   "execution_count": 8,
   "id": "0b42e28f-0a18-4981-9ef0-f4997b1051e9",
   "metadata": {},
   "outputs": [
    {
     "data": {
      "text/plain": [
       "\"? this film was just brilliant casting location scenery story direction everyone's really suited the part they played and you could just imagine being there robert ? is an amazing actor and now the same being director ? father came from the same scottish island as myself so i loved the fact there was a real connection with this film the witty remarks throughout the film were great it was just brilliant so much that i bought the film as soon as it was released for ? and would recommend it to everyone to watch and the fly fishing was amazing really cried at the end it was so sad and you know what they say if you cry at a film it must have been good and this definitely was also ? to the two little boy's that played the ? of norman and paul they were just brilliant children are often left out of the ? list i think because the stars that play them all grown up are such a big profile for the whole film but these children are amazing and should be praised for what they have done don't you think the whole story was so lovely because it was true and was someone's life after all that was shared with us all\""
      ]
     },
     "execution_count": 8,
     "metadata": {},
     "output_type": "execute_result"
    }
   ],
   "source": [
    "# Let's quickly decode a review\n",
    "\n",
    "# step 1: load the dictionary mappings from word to integer index\n",
    "word_index = imdb.get_word_index()\n",
    "\n",
    "# step 2: reverse word index to map integer indexes to their respective words\n",
    "reverse_word_index = dict([(value, key) for (key, value) in word_index.items()])\n",
    "\n",
    "# Step 3: decode the review, mapping integer indices to words\n",
    "#\n",
    "# indices are off by 3 because 0, 1, and 2 are reserverd indices for \"padding\", \"Start of sequence\" and \"unknown\"\n",
    "decoded_review = ' '.join([reverse_word_index.get(i-3, '?') for i in train_data[0]])\n",
    "\n",
    "decoded_review"
   ]
  },
  {
   "cell_type": "code",
   "execution_count": 9,
   "id": "ce2acb0f-ba81-463f-abea-68989d407f5e",
   "metadata": {},
   "outputs": [
    {
     "data": {
      "text/plain": [
       "88584"
      ]
     },
     "execution_count": 9,
     "metadata": {},
     "output_type": "execute_result"
    }
   ],
   "source": [
    "len(reverse_word_index)"
   ]
  },
  {
   "cell_type": "markdown",
   "id": "8d080ff1-899f-4024-a4b6-e0384955dd2c",
   "metadata": {},
   "source": [
    "# Preparing the data"
   ]
  },
  {
   "cell_type": "markdown",
   "id": "d7a85c4d-de66-4cc7-a5e3-a2020477ff0d",
   "metadata": {},
   "source": [
    "# Building the network\n",
    "Our input data is vectors which needs to be mapped to scaler labels (0s and 1s). This is one of the easiest setups and a simple stack of fully-connected, Dense layers with relu activation perform quite well."
   ]
  },
  {
   "cell_type": "markdown",
   "id": "2debeec7-0b1f-46e8-9755-ac2876e4d6f9",
   "metadata": {},
   "source": [
    "## Hidden layers\n",
    "In this network we will leverage hidden layers. we will define our layers as such.\n",
    "\n",
    "Dense(16, activation='relu')\n",
    "The argument being passe  to  Dense Layerayer, (16) is the number of hidden units of a layer.\n",
    "\n",
    "The output from a Dense layer with relu activation is genrated after a chain of tensor operations. This chain of operations is implemented as\n",
    "\n",
    "output = relu(dot(W, input) + b)\n",
    "Where, W is the Weight matrix and b is the bias (tensor).\n",
    "\n",
    "Having 16 hidden units means that the matrix W will be of the shape ( input_Dimension , 16 ). In this case where the dimension of input vector is 10,000; the shape of Weight matrix will be (10000, 16). If you were to represent this network as graph you would see 16 neurons in this hidden layer.\n",
    "\n",
    "To put in in laymans terms, there will be 16 balls in this layer.\n",
    "\n",
    "Each of these balls, or hidden units is a dimension in the representation space of the layer. Representaion space is the set of all viable representaions for the data. Every hidden layer composed of its hidden units aims to learns one specific transformation of the data, or one feature/pattern from the data.\n",
    "\n",
    "Hidden layers, simply put, are layers of mathematical functions each designed to produce an output specific to an intended result. Hidden layers allow for the function of a neural network to be broken down into specific transformations of the data. Each hidden layer function is specialized to produce a defined output.For example, a hidden layer functions that are used to identify human eyes and ears may be used in conjunction by subsequent layers to identify faces in images. While the functions to identify eyes alone are not enough to independently recognize objects, they can function jointly within a neural network.\n",
    "\n",
    "Model Architecture\n",
    "For our model we will use\n",
    "\n",
    "two intermediate layers with 16 hidden units each\n",
    "Third layer that will output the scalar sentiment prediction\n",
    "Intermediate layers will use relu activation function. relu or Rectified linear unit function will zero out the negative values.\n",
    "\n",
    "Sigmoid activation for the final layer or output layer. A sigmoid function \"squashes\" arbitary values into the [0,1] range.\n",
    "\n",
    "There are formal principles that guide our appraoch in selecting the architectural attributes of a model. These are not covered in this case study.\n",
    "\n"
   ]
  },
  {
   "cell_type": "code",
   "execution_count": 10,
   "id": "6d2d1324-918a-4d03-93ba-26d6a8c4f6b4",
   "metadata": {},
   "outputs": [],
   "source": [
    "def vectorize_sequences(sequences, dimension=10000):\n",
    "    results = np.zeros((len(sequences), dimension))    # Creates an all zero matrix of shape (len(sequences),10K)\n",
    "    for i,sequence in enumerate(sequences):\n",
    "        results[i,sequence] = 1                        # Sets specific indices of results[i] to 1s\n",
    "    return results\n",
    "\n",
    "# Vectorize training Data\n",
    "X_train = vectorize_sequences(train_data)\n",
    "\n",
    "# Vectorize testing Data\n",
    "X_test = vectorize_sequences(test_data)"
   ]
  },
  {
   "cell_type": "code",
   "execution_count": 11,
   "id": "3441eae8-e23b-40dc-a2e6-5cf7361f9c26",
   "metadata": {},
   "outputs": [
    {
     "data": {
      "text/plain": [
       "array([0., 1., 1., ..., 0., 0., 0.])"
      ]
     },
     "execution_count": 11,
     "metadata": {},
     "output_type": "execute_result"
    }
   ],
   "source": [
    "X_train[0]"
   ]
  },
  {
   "cell_type": "code",
   "execution_count": 12,
   "id": "4a82c464-1efd-4d63-878c-49c2389cbeda",
   "metadata": {},
   "outputs": [
    {
     "data": {
      "text/plain": [
       "(25000, 10000)"
      ]
     },
     "execution_count": 12,
     "metadata": {},
     "output_type": "execute_result"
    }
   ],
   "source": [
    "X_train.shape"
   ]
  },
  {
   "cell_type": "code",
   "execution_count": 13,
   "id": "04a2a966-ced8-4e70-ad51-218aaf8c5e7a",
   "metadata": {},
   "outputs": [],
   "source": [
    "y_train = np.asarray(train_labels).astype('float32')\n",
    "y_test  = np.asarray(test_labels).astype('float32')"
   ]
  },
  {
   "cell_type": "markdown",
   "id": "33c86eab-4ba1-4472-a61c-4eddb990822e",
   "metadata": {},
   "source": [
    "## Model Defination"
   ]
  },
  {
   "cell_type": "code",
   "execution_count": 14,
   "id": "700c7e6a-73d5-437a-83c7-bb2b5367e484",
   "metadata": {},
   "outputs": [],
   "source": [
    "model = models.Sequential()\n",
    "model.add(layers.Dense(16, activation='relu', input_shape=(10000,)))\n",
    "model.add(layers.Dense(16, activation='relu'))\n",
    "model.add(layers.Dense(1, activation='sigmoid'))"
   ]
  },
  {
   "cell_type": "markdown",
   "id": "56af883d-9ee6-49d0-a69e-5ca592b3135b",
   "metadata": {},
   "source": [
    "## Compiling the model\n",
    "In this step we will choose an optimizer, a loss function, and metrics to observe. We will go forward with\n",
    "\n",
    "binary_crossentropy loss function, commonlu used for Binary Classification\n",
    "rmsprop optimizer and\n",
    "accuracy as a measure of performance\n",
    "We can pass our choices for optimizer, loss function and metrics as strings to the compile function because rmsprop, binary_crossentropy and accuracy come packaged with Keras.\n",
    "\n",
    "\n",
    "model.complie(\n",
    "    optimizer='rmsprop',\n",
    "    loss = 'binary_crossentropy',\n",
    "   metrics = ['accuracy']\n",
    "\n",
    ")\n",
    "\n",
    "One could use a customized loss function or ortimizer by passing the custom class instance as argument to the loss, optimizer or mertics fields.\n",
    "\n",
    "In this example, we will implement our default choices, but, we will do so by passing class instances. This is exactly how we would do it, if we had customized parameters."
   ]
  },
  {
   "cell_type": "code",
   "execution_count": 15,
   "id": "bbb6f0a1-21e4-4be7-a5c2-ba2548c5808b",
   "metadata": {},
   "outputs": [],
   "source": [
    "model.compile(\n",
    "    optimizer=optimizers.RMSprop(learning_rate=0.001),\n",
    "    loss = losses.binary_crossentropy,\n",
    "    metrics = [metrics.binary_accuracy]\n",
    ")"
   ]
  },
  {
   "cell_type": "markdown",
   "id": "9e9f03cd-f56e-4c49-8c67-b5765959ac65",
   "metadata": {},
   "source": [
    "## Setting up Validation\n",
    "We will set aside a part of our training data for validation of the accuracy of the model as it trains. A validation set enables us to monitor the progress of our model on previously unseen data as it goes throug epochs during training.\n",
    "\n",
    "Validation steps help us fine tune the training parameters of the model.fit function so as to avoid overfitting and under fitting of data."
   ]
  },
  {
   "cell_type": "code",
   "execution_count": 16,
   "id": "a3cb3dda-a43b-4f6b-83c6-e0c7e7e39051",
   "metadata": {},
   "outputs": [],
   "source": [
    "# Input for Validation\n",
    "X_val = X_train[:10000]\n",
    "partial_X_train = X_train[10000:]\n",
    "\n",
    "# Labels for validation\n",
    "y_val = y_train[:10000]\n",
    "partial_y_train = y_train[10000:]\n"
   ]
  },
  {
   "cell_type": "markdown",
   "id": "0526a41e-a2cd-4ca3-a3e4-6e6880dd498e",
   "metadata": {},
   "source": [
    "## Training our model\n",
    "Initially, we will train our models for 20 epochs in mini-batches of 512 samples. We will aslo pass our validation set to the `fit`  method.\n",
    "\n",
    "Calling the `fit`  method returns a `History`  object. This object contains a member `history`  which stores all data about the training process including the values of observable or monitored quantaties as the epochs proceed. We will save this object to better determine the fine tuning to be applied to the training step."
   ]
  },
  {
   "cell_type": "code",
   "execution_count": 17,
   "id": "9a34cf2a-4c36-4ad7-8f74-1337ac034f70",
   "metadata": {},
   "outputs": [
    {
     "name": "stdout",
     "output_type": "stream",
     "text": [
      "Epoch 1/20\n",
      "30/30 [==============================] - 2s 33ms/step - loss: 0.5183 - binary_accuracy: 0.7630 - val_loss: 0.4182 - val_binary_accuracy: 0.8264\n",
      "Epoch 2/20\n",
      "30/30 [==============================] - 0s 14ms/step - loss: 0.3091 - binary_accuracy: 0.9005 - val_loss: 0.3064 - val_binary_accuracy: 0.8863\n",
      "Epoch 3/20\n",
      "30/30 [==============================] - 0s 14ms/step - loss: 0.2245 - binary_accuracy: 0.9302 - val_loss: 0.3380 - val_binary_accuracy: 0.8628\n",
      "Epoch 4/20\n",
      "30/30 [==============================] - 0s 14ms/step - loss: 0.1781 - binary_accuracy: 0.9427 - val_loss: 0.2838 - val_binary_accuracy: 0.8847\n",
      "Epoch 5/20\n",
      "30/30 [==============================] - 0s 14ms/step - loss: 0.1470 - binary_accuracy: 0.9534 - val_loss: 0.2797 - val_binary_accuracy: 0.8872\n",
      "Epoch 6/20\n",
      "30/30 [==============================] - 0s 16ms/step - loss: 0.1175 - binary_accuracy: 0.9647 - val_loss: 0.3011 - val_binary_accuracy: 0.8815\n",
      "Epoch 7/20\n",
      "30/30 [==============================] - 1s 21ms/step - loss: 0.1015 - binary_accuracy: 0.9708 - val_loss: 0.3121 - val_binary_accuracy: 0.8835\n",
      "Epoch 8/20\n",
      "30/30 [==============================] - 1s 24ms/step - loss: 0.0816 - binary_accuracy: 0.9777 - val_loss: 0.3293 - val_binary_accuracy: 0.8810\n",
      "Epoch 9/20\n",
      "30/30 [==============================] - 1s 24ms/step - loss: 0.0683 - binary_accuracy: 0.9812 - val_loss: 0.3871 - val_binary_accuracy: 0.8723\n",
      "Epoch 10/20\n",
      "30/30 [==============================] - 1s 25ms/step - loss: 0.0602 - binary_accuracy: 0.9829 - val_loss: 0.3811 - val_binary_accuracy: 0.8782\n",
      "Epoch 11/20\n",
      "30/30 [==============================] - 1s 24ms/step - loss: 0.0482 - binary_accuracy: 0.9879 - val_loss: 0.4425 - val_binary_accuracy: 0.8697\n",
      "Epoch 12/20\n",
      "30/30 [==============================] - 1s 29ms/step - loss: 0.0391 - binary_accuracy: 0.9914 - val_loss: 0.4591 - val_binary_accuracy: 0.8677\n",
      "Epoch 13/20\n",
      "30/30 [==============================] - 1s 29ms/step - loss: 0.0323 - binary_accuracy: 0.9929 - val_loss: 0.4597 - val_binary_accuracy: 0.8729\n",
      "Epoch 14/20\n",
      "30/30 [==============================] - 1s 23ms/step - loss: 0.0282 - binary_accuracy: 0.9935 - val_loss: 0.5278 - val_binary_accuracy: 0.8626\n",
      "Epoch 15/20\n",
      "30/30 [==============================] - 1s 22ms/step - loss: 0.0242 - binary_accuracy: 0.9947 - val_loss: 0.5185 - val_binary_accuracy: 0.8697\n",
      "Epoch 16/20\n",
      "30/30 [==============================] - 1s 29ms/step - loss: 0.0148 - binary_accuracy: 0.9986 - val_loss: 0.5694 - val_binary_accuracy: 0.8638\n",
      "Epoch 17/20\n",
      "30/30 [==============================] - 1s 33ms/step - loss: 0.0151 - binary_accuracy: 0.9978 - val_loss: 0.5892 - val_binary_accuracy: 0.8679\n",
      "Epoch 18/20\n",
      "30/30 [==============================] - 1s 27ms/step - loss: 0.0119 - binary_accuracy: 0.9986 - val_loss: 0.6277 - val_binary_accuracy: 0.8653\n",
      "Epoch 19/20\n",
      "30/30 [==============================] - 1s 23ms/step - loss: 0.0071 - binary_accuracy: 0.9997 - val_loss: 0.6630 - val_binary_accuracy: 0.8633\n",
      "Epoch 20/20\n",
      "30/30 [==============================] - 1s 26ms/step - loss: 0.0093 - binary_accuracy: 0.9983 - val_loss: 0.6904 - val_binary_accuracy: 0.8639\n"
     ]
    }
   ],
   "source": [
    "history = model.fit(\n",
    "    partial_X_train,\n",
    "    partial_y_train,\n",
    "    epochs=20,\n",
    "    batch_size=512,\n",
    "    validation_data=(X_val, y_val)\n",
    ")"
   ]
  },
  {
   "cell_type": "code",
   "execution_count": 18,
   "id": "624e5144-069c-4bd6-ad74-7d4ae74271b2",
   "metadata": {},
   "outputs": [
    {
     "data": {
      "text/plain": [
       "dict_keys(['loss', 'binary_accuracy', 'val_loss', 'val_binary_accuracy'])"
      ]
     },
     "execution_count": 18,
     "metadata": {},
     "output_type": "execute_result"
    }
   ],
   "source": [
    "history_dict = history.history\n",
    "history_dict.keys()"
   ]
  },
  {
   "cell_type": "markdown",
   "id": "d160d556-b65d-4542-a5da-5098c49681db",
   "metadata": {},
   "source": [
    "history_dict contains values of\n",
    "\n",
    "- Training loss\n",
    "- Training Accuracy\n",
    "- Validation Loss\n",
    "- Validation Accuracy\n",
    "\n",
    "at the end of each epoch.\n",
    "\n",
    "Let's use Matplotlib to plot Training and validation losses and Traing and Validation Accuracy side by side."
   ]
  },
  {
   "cell_type": "code",
   "execution_count": 19,
   "id": "1d3e445a-fef0-4f9b-806b-7658e46e831b",
   "metadata": {},
   "outputs": [],
   "source": [
    "loss_values = history_dict['loss']\n",
    "val_loss_values = history_dict['val_loss']\n",
    "epochs = range(1, len(loss_values) + 1)"
   ]
  },
  {
   "cell_type": "code",
   "execution_count": 23,
   "id": "176157a5-0e05-442b-a9be-9f72abd3465a",
   "metadata": {},
   "outputs": [
    {
     "data": {
      "text/plain": [
       "[<matplotlib.lines.Line2D at 0x1e3dc63cfa0>]"
      ]
     },
     "execution_count": 23,
     "metadata": {},
     "output_type": "execute_result"
    },
    {
     "data": {
      "image/png": "[encoded data removed]",
      "text/plain": [
       "<Figure size 640x480 with 1 Axes>"
      ]
     },
     "metadata": {},
     "output_type": "display_data"
    }
   ],
   "source": [
    "plt.plot(epochs, loss_values, 'g', label=\"Training Loss\")\n",
    "plt.plot(epochs, val_loss_values, 'b', label=\"Validation Loss\")"
   ]
  },
  {
   "cell_type": "code",
   "execution_count": 24,
   "id": "c861945b-bd57-4218-9c47-3565e8aba80a",
   "metadata": {},
   "outputs": [
    {
     "data": {
      "image/png": "[encoded data removed]",
      "text/plain": [
       "<Figure size 640x480 with 1 Axes>"
      ]
     },
     "metadata": {},
     "output_type": "display_data"
    }
   ],
   "source": [
    "# Training and Validation Accuracy\n",
    "\n",
    "acc_values = history_dict['binary_accuracy']\n",
    "val_acc_values = history_dict['val_binary_accuracy']\n",
    "\n",
    "epochs = range(1, len(loss_values) + 1)\n",
    "\n",
    "plt.plot(epochs, acc_values, 'g', label=\"Training Accuracy\")\n",
    "plt.plot(epochs, val_acc_values, 'b', label=\"Validation Accuracy\")\n",
    "\n",
    "plt.title('Training and Validation Accuraccy')\n",
    "plt.xlabel('Epochs')\n",
    "plt.ylabel('Accuracy')\n",
    "plt.legend()\n",
    "\n",
    "plt.show()"
   ]
  },
  {
   "cell_type": "markdown",
   "id": "70c893ce-5fc5-436a-b066-9765ad798458",
   "metadata": {},
   "source": [
    "We observe that minimum validation loss and maximum validation Accuracy is achived at around 3-5 epochs. After that we observe 2 trends:\r\n",
    "1. \r\n",
    "increase in validation loss and decrese in training los2. s\r\n",
    "decrease in validation accuracy and increase in training accuracy\r\n",
    "This implies that the model is getting better at classifying the sentiment of the training data, but making consistently worse predictions when it encounters new, previously unseed data. This is the hallmark of Overfitting. After the 5th epoch the model begins to fit too closely to the trainning data.\r\n",
    "\r\n",
    "To address overfitting, we will reduce the number of epochs to somewhere between 3 and 5. These results may vary depending on your machine and due to the very nature of the random assignment of weights that may vary from model to mode.\r\n",
    "\r\n",
    "In our case we will stop training after 3 epochs."
   ]
  },
  {
   "cell_type": "markdown",
   "id": "09b5cfb7-f085-46a2-bfc2-3759bce03885",
   "metadata": {},
   "source": [
    "## Retraining our model\n"
   ]
  },
  {
   "cell_type": "code",
   "execution_count": 25,
   "id": "4a497af7-48cb-4ef7-a785-89e2c27f6a70",
   "metadata": {},
   "outputs": [
    {
     "name": "stdout",
     "output_type": "stream",
     "text": [
      "Epoch 1/3\n",
      "30/30 [==============================] - 2s 58ms/step - loss: 0.0025 - binary_accuracy: 0.9999 - val_loss: 0.7342 - val_binary_accuracy: 0.8642\n",
      "Epoch 2/3\n",
      "30/30 [==============================] - 1s 17ms/step - loss: 0.0075 - binary_accuracy: 0.9984 - val_loss: 0.7840 - val_binary_accuracy: 0.8639\n",
      "Epoch 3/3\n",
      "30/30 [==============================] - 1s 20ms/step - loss: 0.0014 - binary_accuracy: 0.9999 - val_loss: 0.8072 - val_binary_accuracy: 0.8637\n"
     ]
    },
    {
     "data": {
      "text/plain": [
       "<keras.callbacks.History at 0x1e3dc5fa560>"
      ]
     },
     "execution_count": 25,
     "metadata": {},
     "output_type": "execute_result"
    }
   ],
   "source": [
    "model.fit(\n",
    "    partial_X_train,\n",
    "    partial_y_train,\n",
    "    epochs=3,\n",
    "    batch_size=512,\n",
    "    validation_data=(X_val, y_val)\n",
    ")\n"
   ]
  },
  {
   "cell_type": "markdown",
   "id": "986ba715-a736-458c-89f0-f83e8b682145",
   "metadata": {},
   "source": [
    "## Model Evaluation\n"
   ]
  },
  {
   "cell_type": "code",
   "execution_count": 26,
   "id": "e6a7568b-6ae4-4195-96ac-61e42690a551",
   "metadata": {},
   "outputs": [
    {
     "name": "stdout",
     "output_type": "stream",
     "text": [
      "782/782 [==============================] - 3s 3ms/step\n"
     ]
    }
   ],
   "source": [
    "# Making Predictions for testing data\n",
    "np.set_printoptions(suppress=True)\n",
    "result = model.predict(X_test)"
   ]
  },
  {
   "cell_type": "code",
   "execution_count": 27,
   "id": "8d0f5108-6fa9-4104-9932-fbc59177d2e8",
   "metadata": {},
   "outputs": [
    {
     "data": {
      "text/plain": [
       "array([[0.00132813],\n",
       "       [1.        ],\n",
       "       [0.9537059 ],\n",
       "       ...,\n",
       "       [0.00014764],\n",
       "       [0.01066399],\n",
       "       [0.88093764]], dtype=float32)"
      ]
     },
     "execution_count": 27,
     "metadata": {},
     "output_type": "execute_result"
    }
   ],
   "source": [
    "result\n"
   ]
  },
  {
   "cell_type": "code",
   "execution_count": 28,
   "id": "fb121f14-17d3-4080-b8e8-e505fa5b9050",
   "metadata": {},
   "outputs": [
    {
     "name": "stderr",
     "output_type": "stream",
     "text": [
      "C:\\Users\\vaish\\AppData\\Local\\Temp\\ipykernel_25716\\3135542042.py:3: DeprecationWarning: Conversion of an array with ndim > 0 to a scalar is deprecated, and will error in future. Ensure you extract a single element from your array before performing this operation. (Deprecated NumPy 1.25.)\n",
      "  y_pred[i] = np.round(score)\n"
     ]
    }
   ],
   "source": [
    "y_pred = np.zeros(len(result))\n",
    "for i, score in enumerate(result):\n",
    "    y_pred[i] = np.round(score)"
   ]
  },
  {
   "cell_type": "code",
   "execution_count": 29,
   "id": "984105e4-032e-443e-81e6-7829c5ea2abc",
   "metadata": {},
   "outputs": [
    {
     "data": {
      "text/plain": [
       "<tf.Tensor: shape=(), dtype=float32, numpy=0.15144>"
      ]
     },
     "execution_count": 29,
     "metadata": {},
     "output_type": "execute_result"
    }
   ],
   "source": [
    "mae = metrics.mean_absolute_error(y_pred, y_test)\n",
    "mae"
   ]
  }
 ],
 "metadata": {
  "kernelspec": {
   "display_name": "Python 3 (ipykernel)",
   "language": "python",
   "name": "python3"
  },
  "language_info": {
   "codemirror_mode": {
    "name": "ipython",
    "version": 3
   },
   "file_extension": ".py",
   "mimetype": "text/x-python",
   "name": "python",
   "nbconvert_exporter": "python",
   "pygments_lexer": "ipython3",
   "version": "3.10.13"
  }
 },
 "nbformat": 4,
 "nbformat_minor": 5
}
